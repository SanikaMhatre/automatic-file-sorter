{
 "cells": [
  {
   "cell_type": "code",
   "execution_count": 9,
   "id": "da6b548e",
   "metadata": {},
   "outputs": [],
   "source": [
    "import os, shutil\n"
   ]
  },
  {
   "cell_type": "code",
   "execution_count": 11,
   "id": "23f907bb",
   "metadata": {},
   "outputs": [],
   "source": [
    "#path to the folder which has different files(excel, pdf, image, text, etc.)\n",
    "#add '/' add the end of the path\n",
    "#do not forget to add 'r' before path ie r\"your/path\"\n",
    "path = r\"C:/Users/sanik/OneDrive/Desktop/Sanika/python/automated file sorter/\""
   ]
  },
  {
   "cell_type": "code",
   "execution_count": 17,
   "id": "e6d53633",
   "metadata": {},
   "outputs": [],
   "source": [
    "file_name = os.listdir(path)"
   ]
  },
  {
   "cell_type": "code",
   "execution_count": 21,
   "id": "17c2a265",
   "metadata": {},
   "outputs": [],
   "source": [
    "#creating new folders to store different types of files\n",
    "folder_names = [\"excel files\", \"image files\", \"pdf's\"]\n",
    "\n",
    "for loop in range(0,3):\n",
    "    if not os.path.exists(path + folder_names[loop]):\n",
    "        os.makedirs((path + folder_names[loop]))\n",
    "        \n",
    "#sorting out files in their respective folders   \n",
    "for file in file_name:\n",
    "    if \".xlsx\" in file and not os.path.exists(path + \"excel files/\" + file):\n",
    "        shutil.move(path + file, path + \"excel files/\" + file)\n",
    "    elif \".jpg\" in file and not os.path.exists(path + \"image files/\" + file):\n",
    "        shutil.move(path + file, path + \"image files/\" + file)\n",
    "    elif \".pdf\" in file and not os.path.exists(path + \"pdf's/\" + file):\n",
    "        shutil.move(path + file, path + \"pdf's/\" + file)  \n",
    "        \n",
    "#you can add extra elif's for files '.csv', '.txt', etc. as needed\n"
   ]
  },
  {
   "cell_type": "code",
   "execution_count": null,
   "id": "409096aa",
   "metadata": {},
   "outputs": [],
   "source": [
    "\n",
    "                    "
   ]
  },
  {
   "cell_type": "code",
   "execution_count": null,
   "id": "a0085adf",
   "metadata": {},
   "outputs": [],
   "source": []
  },
  {
   "cell_type": "code",
   "execution_count": null,
   "id": "bfe13110",
   "metadata": {},
   "outputs": [],
   "source": []
  },
  {
   "cell_type": "code",
   "execution_count": null,
   "id": "1c9ba1fd",
   "metadata": {},
   "outputs": [],
   "source": []
  },
  {
   "cell_type": "code",
   "execution_count": null,
   "id": "eb5c50de",
   "metadata": {},
   "outputs": [],
   "source": []
  }
 ],
 "metadata": {
  "kernelspec": {
   "display_name": "Python 3 (ipykernel)",
   "language": "python",
   "name": "python3"
  },
  "language_info": {
   "codemirror_mode": {
    "name": "ipython",
    "version": 3
   },
   "file_extension": ".py",
   "mimetype": "text/x-python",
   "name": "python",
   "nbconvert_exporter": "python",
   "pygments_lexer": "ipython3",
   "version": "3.9.17"
  }
 },
 "nbformat": 4,
 "nbformat_minor": 5
}
